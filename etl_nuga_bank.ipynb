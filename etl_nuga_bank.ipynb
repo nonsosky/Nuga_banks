{
 "cells": [
  {
   "cell_type": "markdown",
   "metadata": {},
   "source": [
    "## Import Necessary dependencies"
   ]
  },
  {
   "cell_type": "code",
   "execution_count": 1,
   "metadata": {},
   "outputs": [],
   "source": [
    "from pyspark.sql import SparkSession\n",
    "import pandas as pd\n",
    "from sqlalchemy import create_engine"
   ]
  },
  {
   "cell_type": "code",
   "execution_count": 6,
   "metadata": {},
   "outputs": [],
   "source": [
    "# Initialize the spark session\n",
    "spark = SparkSession.builder.appName('NugaBankETL').getOrCreate()"
   ]
  },
  {
   "cell_type": "markdown",
   "metadata": {},
   "source": [
    "## Data Extraction"
   ]
  },
  {
   "cell_type": "code",
   "execution_count": 13,
   "metadata": {},
   "outputs": [],
   "source": [
    "nuga_bank_df = spark.read.csv(r'dataset\\nuga_bank_transactions.csv', header=True, inferSchema=True)"
   ]
  },
  {
   "cell_type": "code",
   "execution_count": 14,
   "metadata": {},
   "outputs": [
    {
     "name": "stdout",
     "output_type": "stream",
     "text": [
      "+--------------------+------+----------------+-----------------+--------------------+--------------------+--------------+--------------------+--------------------+--------------------+--------------------+-------------------+-------------------+--------------------+-------------+-------------+--------+-----+---------+--------------------+--------------------+------+--------------+\n",
      "|    Transaction_Date|Amount|Transaction_Type|    Customer_Name|    Customer_Address|       Customer_City|Customer_State|    Customer_Country|             Company|           Job_Title|               Email|       Phone_Number| Credit_Card_Number|                IBAN|Currency_Code|Random_Number|Category|Group|Is_Active|        Last_Updated|         Description|Gender|Marital_Status|\n",
      "+--------------------+------+----------------+-----------------+--------------------+--------------------+--------------+--------------------+--------------------+--------------------+--------------------+-------------------+-------------------+--------------------+-------------+-------------+--------+-----+---------+--------------------+--------------------+------+--------------+\n",
      "|2024-03-23 15:38:...| 34.76|      Withdrawal|       James Neal|54912 Holmes Lodg...|   West Keithborough|       Florida|                Togo|Benson, Johnson a...|                NULL|                NULL|  493.720.6609x7545|   3592901394693441|GB98RBPP090285271...|          MAD|       3167.0|       C|    Z|       No|2020-06-20 03:04:...|Yeah food anythin...| Other|      Divorced|\n",
      "|2024-04-22 19:15:...|163.92|      Withdrawal|      Thomas Long| 1133 Collin Passage|          Joshuabury|   Connecticut|Lao People's Demo...|                NULL|   Food technologist|michellelynch@exa...|      (497)554-3317|               NULL|GB03KFZR339662263...|          VEF|       2122.0|       B|    Z|     NULL|2020-12-27 13:23:...|Teach edge make n...|Female|       Married|\n",
      "|2024-04-12 19:46:...|386.32|      Withdrawal|   Ashley Shelton|5297 Johnson Port...|         North Maria|    New Jersey|              Bhutan|       Jones-Mueller|Database administ...| ljordan@example.org|      (534)769-3072|       675983949974|GB59QYRN446730519...|          COP|       7796.0|       C|    Z|       No|2020-01-24 01:23:...|Again line face c...| Other|          NULL|\n",
      "|2024-04-17 15:29:...|407.15|         Deposit|    James Rosario|56955 Moore Glens...|  North Michellefurt|    New Mexico|             Iceland|       Vargas-Harris|Horticultural the...|parkerjames@examp...|+1-447-900-1320x257|      4761202519057|GB74FTDO268299438...|          BWP|       6284.0|       C|    Z|      Yes|2023-09-27 03:01:...|     Bag my a drive.|  NULL|          NULL|\n",
      "|2024-02-10 01:51:...|161.31|         Deposit|   Miguel Leonard|262 Beck Expressw...|                NULL| West Virginia|             Eritrea|Richardson, Gonza...|   Minerals surveyor| zweaver@example.net|               NULL|    213156729655186|GB94EWRN587847592...|          SOS|       9179.0|       C|    Y|       No|2022-01-22 19:08:...|Husband find ok w...|Female|       Married|\n",
      "|2024-02-10 22:56:...|764.34|        Transfer|      Jesse Clark|      194 Derek Burg|        Wallacemouth|    New Mexico|             Estonia|           Smith Ltd| Seismic interpreter|benjaminwalker@ex...|   229-511-2530x870|       501851472974|                NULL|          ZWD|         NULL|       B|    Z|      Yes|2023-02-18 19:26:...|                NULL| Other|       Married|\n",
      "|2024-04-07 00:07:...|734.59|         Deposit|       Mark Estes|4077 James Lane A...|      Williamsonport|      Michigan|Antarctica (the t...|         Wade-Kelley|  Surveyor, minerals|karenrobinson@exa...|      (840)334-1610|4543690154172468535|GB55FCPC779828821...|          CAD|       7304.0|       A|    X|      Yes|2020-10-27 16:48:...|Standard prepare ...|  Male|          NULL|\n",
      "|2024-03-08 01:51:...|592.43|         Deposit|       Kelly Ruiz|                NULL|          New Lauren|          NULL|                NULL|                NULL|Medical laborator...|  iestes@example.org| 495.430.4276x42618|      4500718397537|GB78FDAJ595830659...|          RON|       2445.0|       B|    X|       No|2022-11-19 08:59:...|                NULL|Female|        Single|\n",
      "|2024-04-02 06:21:...|472.35|        Transfer|             NULL|1467 Heather Vill...|         Conniemouth|          NULL|               Macao|Ellis, Smith and ...|Television/film/v...|rebeccarodriguez@...|       511.666.5891|      4884893247570|GB91HQDO449272193...|          LTL|       2721.0|    NULL|    Z|       No|                NULL|Leg out walk rece...| Other|          NULL|\n",
      "|2024-02-01 12:34:...| 927.1|         Deposit|        Brad Yang|    579 Nolan Harbor|South Christopher...|  South Dakota|                NULL|         Lindsey LLC|Programmer, appli...|maryduran@example...|  (241)738-0972x658|    180039947294310|GB48WNWB013807482...|          HRK|       3061.0|       B|    X|       No|2020-08-31 20:40:...|Notice paper son ...|Female|        Single|\n",
      "|2024-03-22 16:46:...| 66.59|        Transfer|   Dalton Jimenez|4330 Christine Vista|        Port Kirsten|          NULL|            Cameroon|         Carroll LLC|                NULL|                NULL|       670-499-0309|    213171934267032|GB05MHXA361278613...|          BAM|       3958.0|    NULL| NULL|      Yes|2022-09-19 03:52:...|He wish soldier t...|  Male|        Single|\n",
      "|2024-04-23 13:30:...| 246.3|      Withdrawal|   Paige Sheppard|0947 Mendez Under...|          Medinastad|North Carolina|             Iceland|                NULL|     Sales executive|  eric64@example.net|               NULL|    342940028197162|GB54HHLQ489156729...|          ZWD|       8312.0|    NULL|    Z|      Yes|2023-06-02 04:34:...|This speak buildi...|  Male|      Divorced|\n",
      "|2024-04-24 20:44:...| 17.74|        Transfer|        Ryan Rice|63191 Carol River...|       North Heather|      Virginia|               Gabon|     Arnold-Hamilton|Biomedical scientist|gonzalestammy@exa...|      (891)958-6442|   4263644221766495|GB47BGNG208602249...|          AOA|       6148.0|       D|    Y|       No|                NULL|Camera spring tea...|Female|          NULL|\n",
      "|2024-02-23 05:48:...|640.74|      Withdrawal|   Danielle Young| 8484 Kelley Circles|           Karahaven|    New Jersey|            Dominica|        Fox and Sons|Operational inves...| maria62@example.net|               NULL|       675908517708|GB92DFSO760691881...|          TJS|         NULL|       B|    Z|      Yes|                NULL|Occur second offe...|Female|       Married|\n",
      "|2024-01-13 01:22:...|782.32|      Withdrawal|   Stephen Nguyen|    01696 Brown Cape|          South Mary|       Wyoming|Heard Island and ...|Lynch, Hayes and ...|       Stage manager|stewartjames@exam...|  680-460-3674x6031|   4304956118653227|GB15VYWJ018711823...|          NIO|       2502.0|       B|    Y|      Yes|2021-04-12 20:23:...|Rest theory serve...|  NULL|       Married|\n",
      "|2024-02-25 15:16:...|818.42|      Withdrawal|    Renee Roberts|7591 Ponce Unions...|          Amandaside| Massachusetts|            Barbados|           Green Ltd|Psychologist, pri...|                NULL|       695-680-5744|   6011259703732723|GB34HWCA758164830...|          AFN|       4452.0|       C| NULL|       No|2023-07-09 08:03:...|Program sense arm...|  Male|          NULL|\n",
      "|2024-01-01 20:55:...|352.23|      Withdrawal|Jacqueline Thomas|172 Morse Falls A...|         Bennettbury|      Oklahoma|                Fiji|                NULL|Designer, blown g...|  mark84@example.com| 484.837.6166x81262|     30287519972043|GB62WWAH360646956...|          VUV|       2251.0|       C|    Z|      Yes|2022-02-07 00:48:...|Prepare other los...|Female|        Single|\n",
      "|2024-01-19 00:01:...|316.19|      Withdrawal|     Joseph Pratt|71283 Thomas Port...|        Lake Michele|        Nevada|     Kyrgyz Republic|     Morris-Reynolds|          Podiatrist|robert02@example.com| 623.219.7997x39012|   3555463260975431|GB28XTGC966091493...|          PHP|       2208.0|       C|    Y|      Yes|2023-10-16 00:05:...|Blood painting sp...| Other|       Married|\n",
      "|2024-04-09 14:40:...|662.26|      Withdrawal|        Tara Gray|    3476 Johnny Loaf|     South Davidland|     Tennessee|               Tonga|         Sutton-Owen|   Financial planner|ewilliams@example...|               NULL|   6517022443907149|GB64TDZA391035546...|          GNF|         NULL|       C|    X|      Yes|2022-04-21 21:43:...|Station professio...| Other|       Married|\n",
      "|2024-04-15 04:58:...|893.73|         Deposit|  Dominique Lynch|   181 Gregory Ferry|           Jamesfort|         Maine|               Kenya|         Brown Group|Nutritional thera...|suzanne41@example...|       448-821-0207|   3564854271916761|GB58VVHN678787830...|          AED|       2546.0|       B|    Y|      Yes|2021-09-14 07:15:...|Letter hand soldi...| Other|       Married|\n",
      "+--------------------+------+----------------+-----------------+--------------------+--------------------+--------------+--------------------+--------------------+--------------------+--------------------+-------------------+-------------------+--------------------+-------------+-------------+--------+-----+---------+--------------------+--------------------+------+--------------+\n",
      "only showing top 20 rows\n",
      "\n"
     ]
    }
   ],
   "source": [
    "nuga_bank_df.show()"
   ]
  },
  {
   "cell_type": "code",
   "execution_count": 16,
   "metadata": {},
   "outputs": [
    {
     "name": "stdout",
     "output_type": "stream",
     "text": [
      "root\n",
      " |-- Transaction_Date: timestamp (nullable = true)\n",
      " |-- Amount: double (nullable = true)\n",
      " |-- Transaction_Type: string (nullable = true)\n",
      " |-- Customer_Name: string (nullable = true)\n",
      " |-- Customer_Address: string (nullable = true)\n",
      " |-- Customer_City: string (nullable = true)\n",
      " |-- Customer_State: string (nullable = true)\n",
      " |-- Customer_Country: string (nullable = true)\n",
      " |-- Company: string (nullable = true)\n",
      " |-- Job_Title: string (nullable = true)\n",
      " |-- Email: string (nullable = true)\n",
      " |-- Phone_Number: string (nullable = true)\n",
      " |-- Credit_Card_Number: long (nullable = true)\n",
      " |-- IBAN: string (nullable = true)\n",
      " |-- Currency_Code: string (nullable = true)\n",
      " |-- Random_Number: double (nullable = true)\n",
      " |-- Category: string (nullable = true)\n",
      " |-- Group: string (nullable = true)\n",
      " |-- Is_Active: string (nullable = true)\n",
      " |-- Last_Updated: timestamp (nullable = true)\n",
      " |-- Description: string (nullable = true)\n",
      " |-- Gender: string (nullable = true)\n",
      " |-- Marital_Status: string (nullable = true)\n",
      "\n"
     ]
    }
   ],
   "source": [
    "nuga_bank_df.printSchema()"
   ]
  },
  {
   "cell_type": "code",
   "execution_count": null,
   "metadata": {},
   "outputs": [],
   "source": []
  }
 ],
 "metadata": {
  "kernelspec": {
   "display_name": "nugabankenv",
   "language": "python",
   "name": "python3"
  },
  "language_info": {
   "codemirror_mode": {
    "name": "ipython",
    "version": 3
   },
   "file_extension": ".py",
   "mimetype": "text/x-python",
   "name": "python",
   "nbconvert_exporter": "python",
   "pygments_lexer": "ipython3",
   "version": "3.9.20"
  }
 },
 "nbformat": 4,
 "nbformat_minor": 2
}
